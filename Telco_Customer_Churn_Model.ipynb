{
  "nbformat": 4,
  "nbformat_minor": 0,
  "metadata": {
    "colab": {
      "name": "Telco_Customer_Churn_Model.ipynb",
      "provenance": [],
      "collapsed_sections": []
    },
    "kernelspec": {
      "name": "python3",
      "display_name": "Python 3"
    },
    "language_info": {
      "name": "python"
    }
  },
  "cells": [
    {
      "cell_type": "code",
      "metadata": {
        "id": "j0p2YCyBQo6X"
      },
      "source": [
        "import pandas as pd\n",
        "import numpy as np\n",
        "\n",
        "from sklearn.model_selection import train_test_split, GridSearchCV, cross_val_score, RandomizedSearchCV\n",
        "from sklearn.metrics import accuracy_score, classification_report, confusion_matrix, mean_squared_error, mean_squared_log_error\n",
        "from sklearn.ensemble import RandomForestClassifier, AdaBoostClassifier, BaggingClassifier\n",
        "from sklearn.tree import DecisionTreeClassifier\n",
        "from sklearn.svm import SVC\n",
        "from sklearn.neighbors import KNeighborsClassifier\n",
        "from xgboost import XGBClassifier\n",
        "\n"
      ],
      "execution_count": 1,
      "outputs": []
    },
    {
      "cell_type": "code",
      "metadata": {
        "colab": {
          "base_uri": "https://localhost:8080/",
          "height": 257
        },
        "id": "p18i6huKRVs9",
        "outputId": "9e0bbe57-84b6-4729-8f50-5786a31d46e0"
      },
      "source": [
        "df = pd.read_csv(\"/content/telco_churn_EDA.csv\")\n",
        "df.head()"
      ],
      "execution_count": 2,
      "outputs": [
        {
          "output_type": "execute_result",
          "data": {
            "text/html": [
              "<div>\n",
              "<style scoped>\n",
              "    .dataframe tbody tr th:only-of-type {\n",
              "        vertical-align: middle;\n",
              "    }\n",
              "\n",
              "    .dataframe tbody tr th {\n",
              "        vertical-align: top;\n",
              "    }\n",
              "\n",
              "    .dataframe thead th {\n",
              "        text-align: right;\n",
              "    }\n",
              "</style>\n",
              "<table border=\"1\" class=\"dataframe\">\n",
              "  <thead>\n",
              "    <tr style=\"text-align: right;\">\n",
              "      <th></th>\n",
              "      <th>SeniorCitizen</th>\n",
              "      <th>MonthlyCharges</th>\n",
              "      <th>TotalCharges</th>\n",
              "      <th>Churn</th>\n",
              "      <th>gender_Female</th>\n",
              "      <th>gender_Male</th>\n",
              "      <th>Partner_No</th>\n",
              "      <th>Partner_Yes</th>\n",
              "      <th>Dependents_No</th>\n",
              "      <th>Dependents_Yes</th>\n",
              "      <th>PhoneService_No</th>\n",
              "      <th>PhoneService_Yes</th>\n",
              "      <th>MultipleLines_No</th>\n",
              "      <th>MultipleLines_No phone service</th>\n",
              "      <th>MultipleLines_Yes</th>\n",
              "      <th>InternetService_DSL</th>\n",
              "      <th>InternetService_Fiber optic</th>\n",
              "      <th>InternetService_No</th>\n",
              "      <th>OnlineSecurity_No</th>\n",
              "      <th>OnlineSecurity_No internet service</th>\n",
              "      <th>OnlineSecurity_Yes</th>\n",
              "      <th>OnlineBackup_No</th>\n",
              "      <th>OnlineBackup_No internet service</th>\n",
              "      <th>OnlineBackup_Yes</th>\n",
              "      <th>DeviceProtection_No</th>\n",
              "      <th>DeviceProtection_No internet service</th>\n",
              "      <th>DeviceProtection_Yes</th>\n",
              "      <th>TechSupport_No</th>\n",
              "      <th>TechSupport_No internet service</th>\n",
              "      <th>TechSupport_Yes</th>\n",
              "      <th>StreamingTV_No</th>\n",
              "      <th>StreamingTV_No internet service</th>\n",
              "      <th>StreamingTV_Yes</th>\n",
              "      <th>StreamingMovies_No</th>\n",
              "      <th>StreamingMovies_No internet service</th>\n",
              "      <th>StreamingMovies_Yes</th>\n",
              "      <th>Contract_Month-to-month</th>\n",
              "      <th>Contract_One year</th>\n",
              "      <th>Contract_Two year</th>\n",
              "      <th>PaperlessBilling_No</th>\n",
              "      <th>PaperlessBilling_Yes</th>\n",
              "      <th>PaymentMethod_Bank transfer (automatic)</th>\n",
              "      <th>PaymentMethod_Credit card (automatic)</th>\n",
              "      <th>PaymentMethod_Electronic check</th>\n",
              "      <th>PaymentMethod_Mailed check</th>\n",
              "      <th>tenure_group_1 - 12</th>\n",
              "      <th>tenure_group_13 - 24</th>\n",
              "      <th>tenure_group_25 - 36</th>\n",
              "      <th>tenure_group_37 - 48</th>\n",
              "      <th>tenure_group_49 - 60</th>\n",
              "      <th>tenure_group_61 - 72</th>\n",
              "    </tr>\n",
              "  </thead>\n",
              "  <tbody>\n",
              "    <tr>\n",
              "      <th>0</th>\n",
              "      <td>0</td>\n",
              "      <td>29.85</td>\n",
              "      <td>29.85</td>\n",
              "      <td>0</td>\n",
              "      <td>1</td>\n",
              "      <td>0</td>\n",
              "      <td>0</td>\n",
              "      <td>1</td>\n",
              "      <td>1</td>\n",
              "      <td>0</td>\n",
              "      <td>1</td>\n",
              "      <td>0</td>\n",
              "      <td>0</td>\n",
              "      <td>1</td>\n",
              "      <td>0</td>\n",
              "      <td>1</td>\n",
              "      <td>0</td>\n",
              "      <td>0</td>\n",
              "      <td>1</td>\n",
              "      <td>0</td>\n",
              "      <td>0</td>\n",
              "      <td>0</td>\n",
              "      <td>0</td>\n",
              "      <td>1</td>\n",
              "      <td>1</td>\n",
              "      <td>0</td>\n",
              "      <td>0</td>\n",
              "      <td>1</td>\n",
              "      <td>0</td>\n",
              "      <td>0</td>\n",
              "      <td>1</td>\n",
              "      <td>0</td>\n",
              "      <td>0</td>\n",
              "      <td>1</td>\n",
              "      <td>0</td>\n",
              "      <td>0</td>\n",
              "      <td>1</td>\n",
              "      <td>0</td>\n",
              "      <td>0</td>\n",
              "      <td>0</td>\n",
              "      <td>1</td>\n",
              "      <td>0</td>\n",
              "      <td>0</td>\n",
              "      <td>1</td>\n",
              "      <td>0</td>\n",
              "      <td>1</td>\n",
              "      <td>0</td>\n",
              "      <td>0</td>\n",
              "      <td>0</td>\n",
              "      <td>0</td>\n",
              "      <td>0</td>\n",
              "    </tr>\n",
              "    <tr>\n",
              "      <th>1</th>\n",
              "      <td>0</td>\n",
              "      <td>56.95</td>\n",
              "      <td>1889.50</td>\n",
              "      <td>0</td>\n",
              "      <td>0</td>\n",
              "      <td>1</td>\n",
              "      <td>1</td>\n",
              "      <td>0</td>\n",
              "      <td>1</td>\n",
              "      <td>0</td>\n",
              "      <td>0</td>\n",
              "      <td>1</td>\n",
              "      <td>1</td>\n",
              "      <td>0</td>\n",
              "      <td>0</td>\n",
              "      <td>1</td>\n",
              "      <td>0</td>\n",
              "      <td>0</td>\n",
              "      <td>0</td>\n",
              "      <td>0</td>\n",
              "      <td>1</td>\n",
              "      <td>1</td>\n",
              "      <td>0</td>\n",
              "      <td>0</td>\n",
              "      <td>0</td>\n",
              "      <td>0</td>\n",
              "      <td>1</td>\n",
              "      <td>1</td>\n",
              "      <td>0</td>\n",
              "      <td>0</td>\n",
              "      <td>1</td>\n",
              "      <td>0</td>\n",
              "      <td>0</td>\n",
              "      <td>1</td>\n",
              "      <td>0</td>\n",
              "      <td>0</td>\n",
              "      <td>0</td>\n",
              "      <td>1</td>\n",
              "      <td>0</td>\n",
              "      <td>1</td>\n",
              "      <td>0</td>\n",
              "      <td>0</td>\n",
              "      <td>0</td>\n",
              "      <td>0</td>\n",
              "      <td>1</td>\n",
              "      <td>0</td>\n",
              "      <td>0</td>\n",
              "      <td>1</td>\n",
              "      <td>0</td>\n",
              "      <td>0</td>\n",
              "      <td>0</td>\n",
              "    </tr>\n",
              "    <tr>\n",
              "      <th>2</th>\n",
              "      <td>0</td>\n",
              "      <td>53.85</td>\n",
              "      <td>108.15</td>\n",
              "      <td>1</td>\n",
              "      <td>0</td>\n",
              "      <td>1</td>\n",
              "      <td>1</td>\n",
              "      <td>0</td>\n",
              "      <td>1</td>\n",
              "      <td>0</td>\n",
              "      <td>0</td>\n",
              "      <td>1</td>\n",
              "      <td>1</td>\n",
              "      <td>0</td>\n",
              "      <td>0</td>\n",
              "      <td>1</td>\n",
              "      <td>0</td>\n",
              "      <td>0</td>\n",
              "      <td>0</td>\n",
              "      <td>0</td>\n",
              "      <td>1</td>\n",
              "      <td>0</td>\n",
              "      <td>0</td>\n",
              "      <td>1</td>\n",
              "      <td>1</td>\n",
              "      <td>0</td>\n",
              "      <td>0</td>\n",
              "      <td>1</td>\n",
              "      <td>0</td>\n",
              "      <td>0</td>\n",
              "      <td>1</td>\n",
              "      <td>0</td>\n",
              "      <td>0</td>\n",
              "      <td>1</td>\n",
              "      <td>0</td>\n",
              "      <td>0</td>\n",
              "      <td>1</td>\n",
              "      <td>0</td>\n",
              "      <td>0</td>\n",
              "      <td>0</td>\n",
              "      <td>1</td>\n",
              "      <td>0</td>\n",
              "      <td>0</td>\n",
              "      <td>0</td>\n",
              "      <td>1</td>\n",
              "      <td>1</td>\n",
              "      <td>0</td>\n",
              "      <td>0</td>\n",
              "      <td>0</td>\n",
              "      <td>0</td>\n",
              "      <td>0</td>\n",
              "    </tr>\n",
              "    <tr>\n",
              "      <th>3</th>\n",
              "      <td>0</td>\n",
              "      <td>42.30</td>\n",
              "      <td>1840.75</td>\n",
              "      <td>0</td>\n",
              "      <td>0</td>\n",
              "      <td>1</td>\n",
              "      <td>1</td>\n",
              "      <td>0</td>\n",
              "      <td>1</td>\n",
              "      <td>0</td>\n",
              "      <td>1</td>\n",
              "      <td>0</td>\n",
              "      <td>0</td>\n",
              "      <td>1</td>\n",
              "      <td>0</td>\n",
              "      <td>1</td>\n",
              "      <td>0</td>\n",
              "      <td>0</td>\n",
              "      <td>0</td>\n",
              "      <td>0</td>\n",
              "      <td>1</td>\n",
              "      <td>1</td>\n",
              "      <td>0</td>\n",
              "      <td>0</td>\n",
              "      <td>0</td>\n",
              "      <td>0</td>\n",
              "      <td>1</td>\n",
              "      <td>0</td>\n",
              "      <td>0</td>\n",
              "      <td>1</td>\n",
              "      <td>1</td>\n",
              "      <td>0</td>\n",
              "      <td>0</td>\n",
              "      <td>1</td>\n",
              "      <td>0</td>\n",
              "      <td>0</td>\n",
              "      <td>0</td>\n",
              "      <td>1</td>\n",
              "      <td>0</td>\n",
              "      <td>1</td>\n",
              "      <td>0</td>\n",
              "      <td>1</td>\n",
              "      <td>0</td>\n",
              "      <td>0</td>\n",
              "      <td>0</td>\n",
              "      <td>0</td>\n",
              "      <td>0</td>\n",
              "      <td>0</td>\n",
              "      <td>1</td>\n",
              "      <td>0</td>\n",
              "      <td>0</td>\n",
              "    </tr>\n",
              "    <tr>\n",
              "      <th>4</th>\n",
              "      <td>0</td>\n",
              "      <td>70.70</td>\n",
              "      <td>151.65</td>\n",
              "      <td>1</td>\n",
              "      <td>1</td>\n",
              "      <td>0</td>\n",
              "      <td>1</td>\n",
              "      <td>0</td>\n",
              "      <td>1</td>\n",
              "      <td>0</td>\n",
              "      <td>0</td>\n",
              "      <td>1</td>\n",
              "      <td>1</td>\n",
              "      <td>0</td>\n",
              "      <td>0</td>\n",
              "      <td>0</td>\n",
              "      <td>1</td>\n",
              "      <td>0</td>\n",
              "      <td>1</td>\n",
              "      <td>0</td>\n",
              "      <td>0</td>\n",
              "      <td>1</td>\n",
              "      <td>0</td>\n",
              "      <td>0</td>\n",
              "      <td>1</td>\n",
              "      <td>0</td>\n",
              "      <td>0</td>\n",
              "      <td>1</td>\n",
              "      <td>0</td>\n",
              "      <td>0</td>\n",
              "      <td>1</td>\n",
              "      <td>0</td>\n",
              "      <td>0</td>\n",
              "      <td>1</td>\n",
              "      <td>0</td>\n",
              "      <td>0</td>\n",
              "      <td>1</td>\n",
              "      <td>0</td>\n",
              "      <td>0</td>\n",
              "      <td>0</td>\n",
              "      <td>1</td>\n",
              "      <td>0</td>\n",
              "      <td>0</td>\n",
              "      <td>1</td>\n",
              "      <td>0</td>\n",
              "      <td>1</td>\n",
              "      <td>0</td>\n",
              "      <td>0</td>\n",
              "      <td>0</td>\n",
              "      <td>0</td>\n",
              "      <td>0</td>\n",
              "    </tr>\n",
              "  </tbody>\n",
              "</table>\n",
              "</div>"
            ],
            "text/plain": [
              "   SeniorCitizen  MonthlyCharges  ...  tenure_group_49 - 60  tenure_group_61 - 72\n",
              "0              0           29.85  ...                     0                     0\n",
              "1              0           56.95  ...                     0                     0\n",
              "2              0           53.85  ...                     0                     0\n",
              "3              0           42.30  ...                     0                     0\n",
              "4              0           70.70  ...                     0                     0\n",
              "\n",
              "[5 rows x 51 columns]"
            ]
          },
          "metadata": {},
          "execution_count": 2
        }
      ]
    },
    {
      "cell_type": "code",
      "metadata": {
        "colab": {
          "base_uri": "https://localhost:8080/"
        },
        "id": "sKEEC54kRvCK",
        "outputId": "cc04e242-6705-41d4-bdde-61b3bac7f538"
      },
      "source": [
        "df.shape"
      ],
      "execution_count": 3,
      "outputs": [
        {
          "output_type": "execute_result",
          "data": {
            "text/plain": [
              "(7032, 51)"
            ]
          },
          "metadata": {},
          "execution_count": 3
        }
      ]
    },
    {
      "cell_type": "code",
      "metadata": {
        "id": "Hn5CFltlS6HX"
      },
      "source": [
        "##defining X and y data\n",
        "X = df.drop('Churn', axis=1)\n",
        "y = df.Churn\n"
      ],
      "execution_count": 4,
      "outputs": []
    },
    {
      "cell_type": "code",
      "metadata": {
        "colab": {
          "base_uri": "https://localhost:8080/"
        },
        "id": "IP6P9jkJTQYc",
        "outputId": "fc901d40-f8bb-40d3-d07b-faf301ac346a"
      },
      "source": [
        "print(X.shape)\n",
        "print(y.shape)"
      ],
      "execution_count": 5,
      "outputs": [
        {
          "output_type": "stream",
          "name": "stdout",
          "text": [
            "(7032, 50)\n",
            "(7032,)\n"
          ]
        }
      ]
    },
    {
      "cell_type": "code",
      "metadata": {
        "id": "P7seUWl2TUFZ"
      },
      "source": [
        "## Splitting data into training and testing dataset\n",
        "\n",
        "X_train, X_test, y_train, y_test = train_test_split(X, y, test_size=0.2, random_state=21)"
      ],
      "execution_count": 6,
      "outputs": []
    },
    {
      "cell_type": "code",
      "metadata": {
        "colab": {
          "base_uri": "https://localhost:8080/"
        },
        "id": "aC1Hy895MNUB",
        "outputId": "dbb8b250-e5d7-44cc-daf8-5c09588752b1"
      },
      "source": [
        "#fitting various models\n",
        "seed = 21\n",
        "num_trees = 200\n",
        "\n",
        "model_dt = DecisionTreeClassifier(criterion = \"gini\",random_state = seed)\n",
        "model_br = BaggingClassifier(n_estimators=num_trees, random_state=seed)\n",
        "model_rf = RandomForestClassifier(n_estimators=num_trees, random_state=seed)\n",
        "model_abr = AdaBoostClassifier(n_estimators=num_trees, random_state=seed)\n",
        "model_svr = SVC()\n",
        "model_knr = KNeighborsClassifier()\n",
        "\n",
        "models = [model_dt, model_br, model_rf, model_abr, model_svr, model_knr]\n",
        "for model in models:\n",
        "  model_name = str(model).partition('(')[0] #Partitioning the text and keeping only the head [0], which is model name\n",
        "  print('\\n')\n",
        "  model.fit(X_train, y_train)\n",
        "  y_pred = model.predict(X_test)\n",
        "  print(f\"Accuracy Score of {model_name}: \", accuracy_score(y_test, y_pred))\n",
        "  print(f\"RMSE of {model_name}: \", np.sqrt(mean_squared_error(y_test, y_pred)))\n",
        "  "
      ],
      "execution_count": 8,
      "outputs": [
        {
          "output_type": "stream",
          "name": "stdout",
          "text": [
            "\n",
            "\n",
            "Accuracy Score of DecisionTreeClassifier:  0.7299218194740583\n",
            "RMSE of DecisionTreeClassifier:  0.5196904660718163\n",
            "\n",
            "\n",
            "Accuracy Score of BaggingClassifier:  0.7882018479033405\n",
            "RMSE of BaggingClassifier:  0.46021533231375455\n",
            "\n",
            "\n",
            "Accuracy Score of RandomForestClassifier:  0.7860696517412935\n",
            "RMSE of RandomForestClassifier:  0.46252605143786923\n",
            "\n",
            "\n",
            "Accuracy Score of AdaBoostClassifier:  0.7889125799573561\n",
            "RMSE of AdaBoostClassifier:  0.45944251005174075\n",
            "\n",
            "\n",
            "Accuracy Score of SVC:  0.7157071783937455\n",
            "RMSE of SVC:  0.5331911679747279\n",
            "\n",
            "\n",
            "Accuracy Score of KNeighborsClassifier:  0.7654584221748401\n",
            "RMSE of KNeighborsClassifier:  0.48429492855610196\n"
          ]
        }
      ]
    },
    {
      "cell_type": "markdown",
      "metadata": {
        "id": "PQltX7D3DMf2"
      },
      "source": [
        "Since, this is a highly imbalanced dataset, we might end up with metric trap if we continue checking accuracy_score. \n",
        "We shouldn't consider Accuracy as our metrics to measure the model, as Accuracy is cursed in imbalanced datasets.\n"
      ]
    },
    {
      "cell_type": "code",
      "metadata": {
        "colab": {
          "base_uri": "https://localhost:8080/"
        },
        "id": "UbywVkQKMd31",
        "outputId": "0ee47ef4-4ff7-4ee9-f8f0-50195032a209"
      },
      "source": [
        "print(classification_report(y_test, y_pred, labels=[0,1]))"
      ],
      "execution_count": 9,
      "outputs": [
        {
          "output_type": "stream",
          "name": "stdout",
          "text": [
            "              precision    recall  f1-score   support\n",
            "\n",
            "           0       0.80      0.89      0.84      1007\n",
            "           1       0.62      0.46      0.53       400\n",
            "\n",
            "    accuracy                           0.77      1407\n",
            "   macro avg       0.71      0.67      0.69      1407\n",
            "weighted avg       0.75      0.77      0.75      1407\n",
            "\n"
          ]
        }
      ]
    },
    {
      "cell_type": "markdown",
      "metadata": {
        "id": "GfGw3LeADmUK"
      },
      "source": [
        "As, evident from the classification report above , the precision, recall and f1-score is quite low for class 1. Therefore, we need to balance the dataset.\n"
      ]
    },
    {
      "cell_type": "code",
      "metadata": {
        "colab": {
          "base_uri": "https://localhost:8080/"
        },
        "id": "3_fMYSELDEp6",
        "outputId": "5cad7503-aff5-406d-d36c-58987cc17f25"
      },
      "source": [
        "##Using combination of Oversampling and undersampling for balancing the dataset\n",
        "\n",
        "from imblearn.combine import SMOTEENN\n",
        "\n",
        "sme = SMOTEENN(random_state=21)\n",
        "X_sme, y_sme = sme.fit_sample(X, y)"
      ],
      "execution_count": 12,
      "outputs": [
        {
          "output_type": "stream",
          "name": "stderr",
          "text": [
            "/usr/local/lib/python3.7/dist-packages/sklearn/utils/deprecation.py:87: FutureWarning: Function safe_indexing is deprecated; safe_indexing is deprecated in version 0.22 and will be removed in version 0.24.\n",
            "  warnings.warn(msg, category=FutureWarning)\n",
            "/usr/local/lib/python3.7/dist-packages/sklearn/utils/deprecation.py:87: FutureWarning: Function safe_indexing is deprecated; safe_indexing is deprecated in version 0.22 and will be removed in version 0.24.\n",
            "  warnings.warn(msg, category=FutureWarning)\n",
            "/usr/local/lib/python3.7/dist-packages/sklearn/utils/deprecation.py:87: FutureWarning: Function safe_indexing is deprecated; safe_indexing is deprecated in version 0.22 and will be removed in version 0.24.\n",
            "  warnings.warn(msg, category=FutureWarning)\n",
            "/usr/local/lib/python3.7/dist-packages/sklearn/utils/deprecation.py:87: FutureWarning: Function safe_indexing is deprecated; safe_indexing is deprecated in version 0.22 and will be removed in version 0.24.\n",
            "  warnings.warn(msg, category=FutureWarning)\n"
          ]
        }
      ]
    },
    {
      "cell_type": "code",
      "metadata": {
        "colab": {
          "base_uri": "https://localhost:8080/"
        },
        "id": "lrRxGgUEFeKV",
        "outputId": "bd1a4d14-0b0b-4784-94b9-a7db4d1ec878"
      },
      "source": [
        "print(X_sme.shape)\n",
        "print(y_sme.shape)\n"
      ],
      "execution_count": 13,
      "outputs": [
        {
          "output_type": "stream",
          "name": "stdout",
          "text": [
            "(5915, 50)\n",
            "(5915,)\n"
          ]
        }
      ]
    },
    {
      "cell_type": "code",
      "metadata": {
        "id": "rhsDv8oDEvju"
      },
      "source": [
        "X_train, X_test, y_train, y_test = train_test_split(X_sme, y_sme, test_size=0.2, random_state=21)"
      ],
      "execution_count": 14,
      "outputs": []
    },
    {
      "cell_type": "code",
      "metadata": {
        "colab": {
          "base_uri": "https://localhost:8080/"
        },
        "id": "39vT9kIwFzmB",
        "outputId": "6273a6cc-9501-4a14-b7ac-884cc232501d"
      },
      "source": [
        "#fitting various models on balanced dataset\n",
        "seed = 21\n",
        "num_trees = 500\n",
        "\n",
        "model_dt = DecisionTreeClassifier(criterion = \"gini\",random_state = seed)\n",
        "model_br = BaggingClassifier(n_estimators=num_trees, random_state=seed)\n",
        "model_rf = RandomForestClassifier(n_estimators=num_trees, random_state=seed)\n",
        "model_abr = AdaBoostClassifier(n_estimators=num_trees, random_state=seed)\n",
        "model_svr = SVC()\n",
        "model_knr = KNeighborsClassifier()\n",
        "model_xgb = XGBClassifier(n_estimators=num_trees, random_state=seed)\n",
        "\n",
        "all_models_names =[]\n",
        "RMSE_values =[]\n",
        "models = [model_dt, model_br, model_rf, model_xgb, model_abr, model_svr, model_knr]\n",
        "for model in models:\n",
        "  model_name = str(model).partition('(')[0] #Partitioning the text and keeping only the head [0], which is model name\n",
        "  print('\\n')\n",
        "  model.fit(X_train, y_train)\n",
        "  y_pred = model.predict(X_test)\n",
        "  print(f\"{model_name}: \\n\", classification_report(y_test, y_pred, labels=[0,1]))\n",
        "  RMSE = np.sqrt(mean_squared_error(y_test, y_pred))\n",
        "  print(f\"RMSE of {model_name}: \", RMSE)\n",
        "  all_models_names.append(model_name)\n",
        "  RMSE_values.append(RMSE)"
      ],
      "execution_count": 15,
      "outputs": [
        {
          "output_type": "stream",
          "name": "stdout",
          "text": [
            "\n",
            "\n",
            "DecisionTreeClassifier: \n",
            "               precision    recall  f1-score   support\n",
            "\n",
            "           0       0.94      0.92      0.93       546\n",
            "           1       0.93      0.95      0.94       637\n",
            "\n",
            "    accuracy                           0.93      1183\n",
            "   macro avg       0.93      0.93      0.93      1183\n",
            "weighted avg       0.93      0.93      0.93      1183\n",
            "\n",
            "RMSE of DecisionTreeClassifier:  0.25841705530340325\n",
            "\n",
            "\n",
            "BaggingClassifier: \n",
            "               precision    recall  f1-score   support\n",
            "\n",
            "           0       0.96      0.95      0.96       546\n",
            "           1       0.96      0.97      0.96       637\n",
            "\n",
            "    accuracy                           0.96      1183\n",
            "   macro avg       0.96      0.96      0.96      1183\n",
            "weighted avg       0.96      0.96      0.96      1183\n",
            "\n",
            "RMSE of BaggingClassifier:  0.20143189867937758\n",
            "\n",
            "\n",
            "RandomForestClassifier: \n",
            "               precision    recall  f1-score   support\n",
            "\n",
            "           0       0.97      0.94      0.95       546\n",
            "           1       0.95      0.97      0.96       637\n",
            "\n",
            "    accuracy                           0.96      1183\n",
            "   macro avg       0.96      0.96      0.96      1183\n",
            "weighted avg       0.96      0.96      0.96      1183\n",
            "\n",
            "RMSE of RandomForestClassifier:  0.20351933162035313\n",
            "\n",
            "\n",
            "XGBClassifier: \n",
            "               precision    recall  f1-score   support\n",
            "\n",
            "           0       0.97      0.95      0.96       546\n",
            "           1       0.96      0.97      0.97       637\n",
            "\n",
            "    accuracy                           0.96      1183\n",
            "   macro avg       0.96      0.96      0.96      1183\n",
            "weighted avg       0.96      0.96      0.96      1183\n",
            "\n",
            "RMSE of XGBClassifier:  0.1928563601624642\n",
            "\n",
            "\n",
            "AdaBoostClassifier: \n",
            "               precision    recall  f1-score   support\n",
            "\n",
            "           0       0.97      0.94      0.95       546\n",
            "           1       0.95      0.97      0.96       637\n",
            "\n",
            "    accuracy                           0.96      1183\n",
            "   macro avg       0.96      0.96      0.96      1183\n",
            "weighted avg       0.96      0.96      0.96      1183\n",
            "\n",
            "RMSE of AdaBoostClassifier:  0.2055855707018649\n",
            "\n",
            "\n",
            "SVC: \n",
            "               precision    recall  f1-score   support\n",
            "\n",
            "           0       0.71      0.82      0.76       546\n",
            "           1       0.82      0.72      0.76       637\n",
            "\n",
            "    accuracy                           0.76      1183\n",
            "   macro avg       0.76      0.77      0.76      1183\n",
            "weighted avg       0.77      0.76      0.76      1183\n",
            "\n",
            "RMSE of SVC:  0.4882386789345728\n",
            "\n",
            "\n",
            "KNeighborsClassifier: \n",
            "               precision    recall  f1-score   support\n",
            "\n",
            "           0       0.98      0.94      0.96       546\n",
            "           1       0.95      0.98      0.97       637\n",
            "\n",
            "    accuracy                           0.96      1183\n",
            "   macro avg       0.96      0.96      0.96      1183\n",
            "weighted avg       0.96      0.96      0.96      1183\n",
            "\n",
            "RMSE of KNeighborsClassifier:  0.1950355972450423\n"
          ]
        }
      ]
    },
    {
      "cell_type": "markdown",
      "metadata": {
        "id": "-2LdtVWeNgUK"
      },
      "source": [
        "Clearly, XGBoost Classifier has the least RMSE value, so we will proceed with Hyperparameter tuning in XGBoost"
      ]
    },
    {
      "cell_type": "code",
      "metadata": {
        "colab": {
          "base_uri": "https://localhost:8080/"
        },
        "id": "A8uN79lnHzR4",
        "outputId": "8f55604e-07a1-4c82-a841-2adeb9f65d4b"
      },
      "source": [
        "##Using XGBoost Classifier, RandomSearchCV, GridSearchCV to get the best parameters\n",
        "\n",
        "param_grid = {\n",
        "     'max_depth':range(3,10,2),\n",
        "     'min_child_weight':range(1,6,2)}\n",
        "\n",
        "model = GridSearchCV(estimator = XGBClassifier(learning_rate =0.1, n_estimators=200, max_depth=5,\n",
        " min_child_weight=1, gamma=0, subsample=0.8, colsample_bytree=0.8,\n",
        " objective= 'binary:logistic', nthread=4, scale_pos_weight=1, seed=seed), \n",
        " param_grid = param_grid, scoring='roc_auc',n_jobs=4,iid=False, cv=5, verbose=2)\n",
        "\n",
        "model.fit(X_train, y_train)\n",
        "y_pred = model.predict(X_test)\n",
        "print(\"\\n RMSE: \", np.sqrt(mean_squared_error(y_test, y_pred)))\n",
        "model.best_params_, model.best_score_"
      ],
      "execution_count": 18,
      "outputs": [
        {
          "output_type": "stream",
          "name": "stdout",
          "text": [
            "Fitting 5 folds for each of 12 candidates, totalling 60 fits\n"
          ]
        },
        {
          "output_type": "stream",
          "name": "stderr",
          "text": [
            "[Parallel(n_jobs=4)]: Using backend LokyBackend with 4 concurrent workers.\n",
            "[Parallel(n_jobs=4)]: Done  33 tasks      | elapsed:   45.3s\n",
            "[Parallel(n_jobs=4)]: Done  60 out of  60 | elapsed:  1.5min finished\n",
            "/usr/local/lib/python3.7/dist-packages/sklearn/model_selection/_search.py:823: FutureWarning: The parameter 'iid' is deprecated in 0.22 and will be removed in 0.24.\n",
            "  \"removed in 0.24.\", FutureWarning\n"
          ]
        },
        {
          "output_type": "stream",
          "name": "stdout",
          "text": [
            "\n",
            " RMSE:  0.1884222879063983\n"
          ]
        },
        {
          "output_type": "execute_result",
          "data": {
            "text/plain": [
              "({'max_depth': 5, 'min_child_weight': 1}, 0.9926993364132934)"
            ]
          },
          "metadata": {},
          "execution_count": 18
        }
      ]
    },
    {
      "cell_type": "code",
      "metadata": {
        "colab": {
          "base_uri": "https://localhost:8080/"
        },
        "id": "0VYPc13ElrcT",
        "outputId": "c3ac5d34-b85f-4093-d6b5-628f9ade2f49"
      },
      "source": [
        "param_grid = {\n",
        "     'subsample':[i/10.0 for i in range(6,10)],\n",
        "     'colsample_bytree':[i/10.0 for i in range(6,10)],\n",
        "     'reg_alpha':[1e-5, 1e-2, 0.1, 1, 100],\n",
        "     }\n",
        "\n",
        "model = GridSearchCV(estimator = XGBClassifier(learning_rate =0.1, n_estimators=200, max_depth=5,\n",
        " min_child_weight=1, gamma=0, subsample=0.8, colsample_bytree=0.8,\n",
        " objective= 'binary:logistic', nthread=4, scale_pos_weight=1, seed=seed), \n",
        " param_grid = param_grid, scoring='roc_auc',n_jobs=4,iid=False, cv=5, verbose=2)\n",
        "\n",
        "model.fit(X_train, y_train)\n",
        "y_pred = model.predict(X_test)\n",
        "print(\"\\n RMSE: \", np.sqrt(mean_squared_error(y_test, y_pred)))\n",
        "model.best_params_, model.best_score_"
      ],
      "execution_count": 19,
      "outputs": [
        {
          "output_type": "stream",
          "name": "stdout",
          "text": [
            "Fitting 5 folds for each of 80 candidates, totalling 400 fits\n"
          ]
        },
        {
          "output_type": "stream",
          "name": "stderr",
          "text": [
            "[Parallel(n_jobs=4)]: Using backend LokyBackend with 4 concurrent workers.\n",
            "[Parallel(n_jobs=4)]: Done  33 tasks      | elapsed:   45.2s\n",
            "[Parallel(n_jobs=4)]: Done 154 tasks      | elapsed:  3.0min\n",
            "[Parallel(n_jobs=4)]: Done 357 tasks      | elapsed:  7.3min\n",
            "[Parallel(n_jobs=4)]: Done 400 out of 400 | elapsed:  8.1min finished\n",
            "/usr/local/lib/python3.7/dist-packages/sklearn/model_selection/_search.py:823: FutureWarning: The parameter 'iid' is deprecated in 0.22 and will be removed in 0.24.\n",
            "  \"removed in 0.24.\", FutureWarning\n"
          ]
        },
        {
          "output_type": "stream",
          "name": "stdout",
          "text": [
            "\n",
            " RMSE:  0.18156825980064073\n"
          ]
        },
        {
          "output_type": "execute_result",
          "data": {
            "text/plain": [
              "({'colsample_bytree': 0.8, 'reg_alpha': 1e-05, 'subsample': 0.9},\n",
              " 0.9931562841473489)"
            ]
          },
          "metadata": {},
          "execution_count": 19
        }
      ]
    },
    {
      "cell_type": "code",
      "metadata": {
        "id": "zU0mlFFcTIEL"
      },
      "source": [
        "##Using tuned XGboost model\n",
        "\n",
        "trained_model = XGBClassifier(\n",
        " learning_rate =0.1,\n",
        " n_estimators=200,\n",
        " max_depth=7,\n",
        " min_child_weight=0,\n",
        " gamma=0,\n",
        " subsample=0.9,\n",
        " colsample_bytree=0.6,\n",
        " reg_alpha=0.1,\n",
        " objective= 'binary:logistic',\n",
        " nthread=4,\n",
        " scale_pos_weight=1,\n",
        " seed=seed)\n"
      ],
      "execution_count": 28,
      "outputs": []
    },
    {
      "cell_type": "code",
      "metadata": {
        "colab": {
          "base_uri": "https://localhost:8080/"
        },
        "id": "SRNmsunJLgti",
        "outputId": "83a82207-82ab-4e68-f24d-f0eb8e5a079f"
      },
      "source": [
        "trained_model.fit(X_train, y_train)\n",
        "y_pred = trained_model.predict(X_test)\n",
        "\n",
        "print(\"RMSE: \", np.sqrt(mean_squared_error(y_test, y_pred)))\n",
        "print(classification_report(y_test, y_pred, labels=[0,1]))\n",
        "print(\"Score: \", trained_model.score(X_test, y_test))\n",
        "print(confusion_matrix(y_test, y_pred))"
      ],
      "execution_count": 34,
      "outputs": [
        {
          "output_type": "stream",
          "name": "stdout",
          "text": [
            "RMSE:  0.17922534538791307\n",
            "              precision    recall  f1-score   support\n",
            "\n",
            "           0       0.97      0.96      0.96       546\n",
            "           1       0.96      0.98      0.97       637\n",
            "\n",
            "    accuracy                           0.97      1183\n",
            "   macro avg       0.97      0.97      0.97      1183\n",
            "weighted avg       0.97      0.97      0.97      1183\n",
            "\n",
            "Score:  0.9678782755705833\n",
            "[[522  24]\n",
            " [ 14 623]]\n"
          ]
        }
      ]
    },
    {
      "cell_type": "markdown",
      "metadata": {
        "id": "KebjUC5TwbAn"
      },
      "source": [
        "# Saving the model"
      ]
    },
    {
      "cell_type": "code",
      "metadata": {
        "id": "SFNrd6yWND03"
      },
      "source": [
        "import pickle\n",
        "\n",
        "filename = 'model.sav'\n",
        "pickle.dump(trained_model, open(filename, 'wb'))"
      ],
      "execution_count": 35,
      "outputs": []
    },
    {
      "cell_type": "code",
      "metadata": {
        "id": "KBc1BwwTwm3A"
      },
      "source": [
        "#load saved model\n",
        "load_model = pickle.load(open(filename, 'rb'))"
      ],
      "execution_count": 36,
      "outputs": []
    },
    {
      "cell_type": "code",
      "metadata": {
        "id": "HNLmW9lVw_ll"
      },
      "source": [
        "model_score = load_model.score(X_test, y_test)"
      ],
      "execution_count": 37,
      "outputs": []
    },
    {
      "cell_type": "code",
      "metadata": {
        "id": "TqYgMtktxLod",
        "colab": {
          "base_uri": "https://localhost:8080/"
        },
        "outputId": "68c692f7-b26b-4150-9e72-ef7e7af0444e"
      },
      "source": [
        "model_score"
      ],
      "execution_count": 38,
      "outputs": [
        {
          "output_type": "execute_result",
          "data": {
            "text/plain": [
              "0.9678782755705833"
            ]
          },
          "metadata": {},
          "execution_count": 38
        }
      ]
    },
    {
      "cell_type": "code",
      "metadata": {
        "id": "C6THmI7PxMaK"
      },
      "source": [
        ""
      ],
      "execution_count": null,
      "outputs": []
    }
  ]
}